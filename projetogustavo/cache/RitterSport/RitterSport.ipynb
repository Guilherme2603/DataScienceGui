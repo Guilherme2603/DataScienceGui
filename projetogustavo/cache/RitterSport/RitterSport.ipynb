{
 "cells": [
  {
   "cell_type": "code",
   "execution_count": 26,
   "metadata": {},
   "outputs": [
    {
     "name": "stdout",
     "output_type": "stream",
     "text": [
      "Requirement already satisfied: pandas in c:\\users\\gustavo\\onedrive\\documentos\\github\\datasciencegui\\.venv\\lib\\site-packages (2.1.1)\n",
      "Requirement already satisfied: numpy>=1.22.4 in c:\\users\\gustavo\\onedrive\\documentos\\github\\datasciencegui\\.venv\\lib\\site-packages (from pandas) (1.26.0)\n",
      "Requirement already satisfied: python-dateutil>=2.8.2 in c:\\users\\gustavo\\onedrive\\documentos\\github\\datasciencegui\\.venv\\lib\\site-packages (from pandas) (2.8.2)\n",
      "Requirement already satisfied: pytz>=2020.1 in c:\\users\\gustavo\\onedrive\\documentos\\github\\datasciencegui\\.venv\\lib\\site-packages (from pandas) (2023.3.post1)\n",
      "Requirement already satisfied: tzdata>=2022.1 in c:\\users\\gustavo\\onedrive\\documentos\\github\\datasciencegui\\.venv\\lib\\site-packages (from pandas) (2023.3)\n",
      "Requirement already satisfied: six>=1.5 in c:\\users\\gustavo\\onedrive\\documentos\\github\\datasciencegui\\.venv\\lib\\site-packages (from python-dateutil>=2.8.2->pandas) (1.16.0)\n"
     ]
    },
    {
     "name": "stderr",
     "output_type": "stream",
     "text": [
      "\n",
      "[notice] A new release of pip is available: 23.2.1 -> 23.3.1\n",
      "[notice] To update, run: python.exe -m pip install --upgrade pip\n"
     ]
    },
    {
     "name": "stdout",
     "output_type": "stream",
     "text": [
      "Requirement already satisfied: openpyxl in c:\\users\\gustavo\\onedrive\\documentos\\github\\datasciencegui\\.venv\\lib\\site-packages (3.1.2)\n",
      "Requirement already satisfied: et-xmlfile in c:\\users\\gustavo\\onedrive\\documentos\\github\\datasciencegui\\.venv\\lib\\site-packages (from openpyxl) (1.1.0)\n"
     ]
    },
    {
     "name": "stderr",
     "output_type": "stream",
     "text": [
      "\n",
      "[notice] A new release of pip is available: 23.2.1 -> 23.3.1\n",
      "[notice] To update, run: python.exe -m pip install --upgrade pip\n"
     ]
    }
   ],
   "source": [
    "! pip install pandas\n",
    "! pip install openpyxl"
   ]
  },
  {
   "cell_type": "markdown",
   "metadata": {},
   "source": [
    "# Lendo arquivo e limpando dados"
   ]
  },
  {
   "cell_type": "code",
   "execution_count": 27,
   "metadata": {},
   "outputs": [],
   "source": [
    "import pandas as pd"
   ]
  },
  {
   "cell_type": "code",
   "execution_count": null,
   "metadata": {},
   "outputs": [],
   "source": [
    "ritter = pd.read_excel('RitterSport_set23.xlsx', sheet_name='Base_#').reset_index()\n",
    "ritter.head(10)"
   ]
  },
  {
   "cell_type": "code",
   "execution_count": 29,
   "metadata": {},
   "outputs": [
    {
     "data": {
      "text/html": [
       "<div>\n",
       "<style scoped>\n",
       "    .dataframe tbody tr th:only-of-type {\n",
       "        vertical-align: middle;\n",
       "    }\n",
       "\n",
       "    .dataframe tbody tr th {\n",
       "        vertical-align: top;\n",
       "    }\n",
       "\n",
       "    .dataframe thead th {\n",
       "        text-align: right;\n",
       "    }\n",
       "</style>\n",
       "<table border=\"1\" class=\"dataframe\">\n",
       "  <thead>\n",
       "    <tr style=\"text-align: right;\">\n",
       "      <th></th>\n",
       "      <th>linha</th>\n",
       "      <th>pergunta</th>\n",
       "    </tr>\n",
       "  </thead>\n",
       "  <tbody>\n",
       "    <tr>\n",
       "      <th>0</th>\n",
       "      <td>4</td>\n",
       "      <td>Q1: A cidade que você mora é?</td>\n",
       "    </tr>\n",
       "    <tr>\n",
       "      <th>1</th>\n",
       "      <td>11</td>\n",
       "      <td>sexoHU: Sexo</td>\n",
       "    </tr>\n",
       "    <tr>\n",
       "      <th>2</th>\n",
       "      <td>17</td>\n",
       "      <td>FaixaEtária: Faixa Etária</td>\n",
       "    </tr>\n",
       "    <tr>\n",
       "      <th>3</th>\n",
       "      <td>26</td>\n",
       "      <td>rfHU: Renda Familiar</td>\n",
       "    </tr>\n",
       "    <tr>\n",
       "      <th>4</th>\n",
       "      <td>37</td>\n",
       "      <td>Estado</td>\n",
       "    </tr>\n",
       "    <tr>\n",
       "      <th>5</th>\n",
       "      <td>68</td>\n",
       "      <td>Q1: Você conhece a marca acima, mesmo que seja...</td>\n",
       "    </tr>\n",
       "    <tr>\n",
       "      <th>6</th>\n",
       "      <td>74</td>\n",
       "      <td>Q2: Você conhece a marca acima, mesmo que seja...</td>\n",
       "    </tr>\n",
       "    <tr>\n",
       "      <th>7</th>\n",
       "      <td>80</td>\n",
       "      <td>Q3: Você considera essas marcas semelhantes?</td>\n",
       "    </tr>\n",
       "    <tr>\n",
       "      <th>8</th>\n",
       "      <td>86</td>\n",
       "      <td>Q4: Observe as imagens abaixo e responda: Os p...</td>\n",
       "    </tr>\n",
       "    <tr>\n",
       "      <th>9</th>\n",
       "      <td>95</td>\n",
       "      <td>Q5: Observe as imagens abaixo e responda: Ao v...</td>\n",
       "    </tr>\n",
       "    <tr>\n",
       "      <th>10</th>\n",
       "      <td>101</td>\n",
       "      <td>Q6: Observe as imagens abaixo e responda: Você...</td>\n",
       "    </tr>\n",
       "    <tr>\n",
       "      <th>11</th>\n",
       "      <td>107</td>\n",
       "      <td>Q7: Em qual ano nós estamos?</td>\n",
       "    </tr>\n",
       "    <tr>\n",
       "      <th>12</th>\n",
       "      <td>116</td>\n",
       "      <td>Q8: Você costuma comprar doces como geleias, c...</td>\n",
       "    </tr>\n",
       "    <tr>\n",
       "      <th>13</th>\n",
       "      <td>125</td>\n",
       "      <td>Q9: Esse tipo de produto é exposto dessa forma?</td>\n",
       "    </tr>\n",
       "    <tr>\n",
       "      <th>14</th>\n",
       "      <td>131</td>\n",
       "      <td>Q10: Quando você compra esses produtos, o que ...</td>\n",
       "    </tr>\n",
       "    <tr>\n",
       "      <th>15</th>\n",
       "      <td>137</td>\n",
       "      <td>Q10.1: Você leva em consideração as marcas que...</td>\n",
       "    </tr>\n",
       "    <tr>\n",
       "      <th>16</th>\n",
       "      <td>143</td>\n",
       "      <td>Q11: Quando você está comprando esses produtos...</td>\n",
       "    </tr>\n",
       "  </tbody>\n",
       "</table>\n",
       "</div>"
      ],
      "text/plain": [
       "    linha                                           pergunta\n",
       "0       4                      Q1: A cidade que você mora é?\n",
       "1      11                                       sexoHU: Sexo\n",
       "2      17                          FaixaEtária: Faixa Etária\n",
       "3      26                               rfHU: Renda Familiar\n",
       "4      37                                             Estado\n",
       "5      68  Q1: Você conhece a marca acima, mesmo que seja...\n",
       "6      74  Q2: Você conhece a marca acima, mesmo que seja...\n",
       "7      80       Q3: Você considera essas marcas semelhantes?\n",
       "8      86  Q4: Observe as imagens abaixo e responda: Os p...\n",
       "9      95  Q5: Observe as imagens abaixo e responda: Ao v...\n",
       "10    101  Q6: Observe as imagens abaixo e responda: Você...\n",
       "11    107                       Q7: Em qual ano nós estamos?\n",
       "12    116  Q8: Você costuma comprar doces como geleias, c...\n",
       "13    125    Q9: Esse tipo de produto é exposto dessa forma?\n",
       "14    131  Q10: Quando você compra esses produtos, o que ...\n",
       "15    137  Q10.1: Você leva em consideração as marcas que...\n",
       "16    143  Q11: Quando você está comprando esses produtos..."
      ]
     },
     "execution_count": 29,
     "metadata": {},
     "output_type": "execute_result"
    }
   ],
   "source": [
    "perguntas = ritter['Unnamed: 0'].dropna().reset_index()\n",
    "perguntas.columns=['linha','pergunta']\n",
    "\n",
    "perguntas\n"
   ]
  },
  {
   "cell_type": "code",
   "execution_count": null,
   "metadata": {},
   "outputs": [],
   "source": [
    "ritter.head(15)\n"
   ]
  },
  {
   "cell_type": "markdown",
   "metadata": {},
   "source": [
    "### opcoes"
   ]
  },
  {
   "cell_type": "code",
   "execution_count": 31,
   "metadata": {},
   "outputs": [],
   "source": [
    "def op_sexo(total,masculino,feminino):\n",
    "    sexo = {'sexo':{\"total\":total,\"masculino\":masculino,\"feminino\":feminino}}\n",
    "    return sexo\n",
    "def op_etaria(total,dezesseis,trinta,cinquenta):\n",
    "    faixa_etaria ={'faixa_etaria':{\"total\":total,\"16_29\":dezesseis,\"30_49\":trinta,\"50\":cinquenta}}\n",
    "    return faixa_etaria\n",
    "def op_classe(total,ab,c,de):\n",
    "    classe_social = {'classe_social':{\"total\":total,\"AB\":ab,\"C\":c,\"DE\":de}}\n",
    "    return classe_social\n",
    "def op_regiao(total,se,s,co,n,ne):\n",
    "    regiao = {'regiao':{\"total\":total,\"sudeste\":se,\"sul\":s,\"centrooeste\":co,\"norte\":n,\"nordeste\":ne}}\n",
    "    return regiao\n",
    "\n",
    "def opcoes(pergunta,sexo,faixa_etaria,classe_social,regiao):\n",
    "    dados = {'pergunta':pergunta,\"sexo\":sexo,\"faixa_etaria\":faixa_etaria,\"classe_social\":classe_social,\"regiao\":regiao}\n",
    "    return dados\n",
    "def preenche(op,*args):\n",
    "    res =''\n",
    "    if op ==1:\n",
    "        res = op_sexo(*args)\n",
    "    elif op ==2 :\n",
    "        res = op_etaria(*args)\n",
    "    elif op ==3 :\n",
    "        res = op_classe(*args)\n",
    "    elif op ==4 :\n",
    "        res = op_regiao(*args)\n",
    "    elif op ==5 :\n",
    "        opcoes(*args)\n",
    "    return res\n"
   ]
  },
  {
   "cell_type": "markdown",
   "metadata": {},
   "source": [
    "### pegando dados"
   ]
  },
  {
   "cell_type": "code",
   "execution_count": null,
   "metadata": {},
   "outputs": [],
   "source": [
    "a = True\n",
    "numeros = perguntas.linha\n",
    "print(numeros)\n"
   ]
  },
  {
   "cell_type": "code",
   "execution_count": 68,
   "metadata": {},
   "outputs": [
    {
     "name": "stdout",
     "output_type": "stream",
     "text": [
      "{'Q1: A cidade que você mora é?': {'Total ': {'opcao': 'Total ', 'sexo': {'total': 200, 'masculino': 96, 'feminino': 104}, 'faixa_etaria': {'total': 200, '16_29': 56, '30_49': 76, '50': 68}, 'classe_social': {'total': 200, 'AB': 50, 'C': 94, 'DE': 56}, 'regiao': {'total': 200, 'sudeste': 86, 'sul': 30, 'centrooeste': 16, 'norte': 16, 'nordeste': 52}}, 'Capital': {'opcao': 'Capital', 'sexo': {'total': 92, 'masculino': 43, 'feminino': 49}, 'faixa_etaria': {'total': 92, '16_29': 29, '30_49': 33, '50': 30}, 'classe_social': {'total': 92, 'AB': 29, 'C': 42, 'DE': 21}, 'regiao': {'total': 92, 'sudeste': 35, 'sul': 11, 'centrooeste': 11, 'norte': 9, 'nordeste': 26}}, 'Região metropolitana': {'opcao': 'Região metropolitana', 'sexo': {'total': 43, 'masculino': 20, 'feminino': 23}, 'faixa_etaria': {'total': 43, '16_29': 13, '30_49': 18, '50': 12}, 'classe_social': {'total': 43, 'AB': 7, 'C': 21, 'DE': 15}, 'regiao': {'total': 43, 'sudeste': 22, 'sul': 8, 'centrooeste': 2, 'norte': 1, 'nordeste': 10}}, 'Interior do estado': {'opcao': 'Interior do estado', 'sexo': {'total': 65, 'masculino': 33, 'feminino': 32}, 'faixa_etaria': {'total': 65, '16_29': 14, '30_49': 25, '50': 26}, 'classe_social': {'total': 65, 'AB': 14, 'C': 31, 'DE': 20}, 'regiao': {'total': 65, 'sudeste': 29, 'sul': 11, 'centrooeste': 3, 'norte': 6, 'nordeste': 16}}}, 'sexoHU: Sexo': {'Total ': {'opcao': 'Total ', 'sexo': {'total': 200, 'masculino': 96, 'feminino': 104}, 'faixa_etaria': {'total': 200, '16_29': 56, '30_49': 76, '50': 68}, 'classe_social': {'total': 200, 'AB': 50, 'C': 94, 'DE': 56}, 'regiao': {'total': 200, 'sudeste': 86, 'sul': 30, 'centrooeste': 16, 'norte': 16, 'nordeste': 52}}, 'Masculino': {'opcao': 'Masculino', 'sexo': {'total': 96, 'masculino': 96, 'feminino': 0}, 'faixa_etaria': {'total': 96, '16_29': 28, '30_49': 34, '50': 34}, 'classe_social': {'total': 96, 'AB': 27, 'C': 44, 'DE': 25}, 'regiao': {'total': 96, 'sudeste': 39, 'sul': 16, 'centrooeste': 7, 'norte': 9, 'nordeste': 25}}, 'Feminino': {'opcao': 'Feminino', 'sexo': {'total': 104, 'masculino': 0, 'feminino': 104}, 'faixa_etaria': {'total': 104, '16_29': 28, '30_49': 42, '50': 34}, 'classe_social': {'total': 104, 'AB': 23, 'C': 50, 'DE': 31}, 'regiao': {'total': 104, 'sudeste': 47, 'sul': 14, 'centrooeste': 9, 'norte': 7, 'nordeste': 27}}}, 'FaixaEtária: Faixa Etária': {'Total ': {'opcao': 'Total ', 'sexo': {'total': 200, 'masculino': 96, 'feminino': 104}, 'faixa_etaria': {'total': 200, '16_29': 56, '30_49': 76, '50': 68}, 'classe_social': {'total': 200, 'AB': 50, 'C': 94, 'DE': 56}, 'regiao': {'total': 200, 'sudeste': 86, 'sul': 30, 'centrooeste': 16, 'norte': 16, 'nordeste': 52}}, 'De 16 a 24 anos': {'opcao': 'De 16 a 24 anos', 'sexo': {'total': 36, 'masculino': 18, 'feminino': 18}, 'faixa_etaria': {'total': 36, '16_29': 36, '30_49': 0, '50': 0}, 'classe_social': {'total': 36, 'AB': 6, 'C': 19, 'DE': 11}, 'regiao': {'total': 36, 'sudeste': 14, 'sul': 6, 'centrooeste': 2, 'norte': 2, 'nordeste': 12}}, 'De 25 a 29 anos': {'opcao': 'De 25 a 29 anos', 'sexo': {'total': 20, 'masculino': 10, 'feminino': 10}, 'faixa_etaria': {'total': 20, '16_29': 20, '30_49': 0, '50': 0}, 'classe_social': {'total': 20, 'AB': 2, 'C': 12, 'DE': 6}, 'regiao': {'total': 20, 'sudeste': 8, 'sul': 2, 'centrooeste': 2, 'norte': 2, 'nordeste': 6}}, 'De 30 a 39 anos': {'opcao': 'De 30 a 39 anos', 'sexo': {'total': 40, 'masculino': 18, 'feminino': 22}, 'faixa_etaria': {'total': 40, '16_29': 0, '30_49': 40, '50': 0}, 'classe_social': {'total': 40, 'AB': 10, 'C': 17, 'DE': 13}, 'regiao': {'total': 40, 'sudeste': 13, 'sul': 6, 'centrooeste': 4, 'norte': 5, 'nordeste': 12}}, 'De 40 a 49 anos': {'opcao': 'De 40 a 49 anos', 'sexo': {'total': 36, 'masculino': 16, 'feminino': 20}, 'faixa_etaria': {'total': 36, '16_29': 0, '30_49': 36, '50': 0}, 'classe_social': {'total': 36, 'AB': 9, 'C': 17, 'DE': 10}, 'regiao': {'total': 36, 'sudeste': 15, 'sul': 6, 'centrooeste': 2, 'norte': 3, 'nordeste': 10}}, '50 anos ou mais': {'opcao': '50 anos ou mais', 'sexo': {'total': 68, 'masculino': 34, 'feminino': 34}, 'faixa_etaria': {'total': 68, '16_29': 0, '30_49': 0, '50': 68}, 'classe_social': {'total': 68, 'AB': 23, 'C': 29, 'DE': 16}, 'regiao': {'total': 68, 'sudeste': 36, 'sul': 10, 'centrooeste': 6, 'norte': 4, 'nordeste': 12}}}, 'rfHU: Renda Familiar': {'Total ': {'opcao': 'Total ', 'sexo': {'total': 200, 'masculino': 96, 'feminino': 104}, 'faixa_etaria': {'total': 200, '16_29': 56, '30_49': 76, '50': 68}, 'classe_social': {'total': 200, 'AB': 50, 'C': 94, 'DE': 56}, 'regiao': {'total': 200, 'sudeste': 86, 'sul': 30, 'centrooeste': 16, 'norte': 16, 'nordeste': 52}}, 'Até R$ 1.320': {'opcao': 'Até R$ 1.320', 'sexo': {'total': 16, 'masculino': 10, 'feminino': 6}, 'faixa_etaria': {'total': 16, '16_29': 7, '30_49': 5, '50': 4}, 'classe_social': {'total': 16, 'AB': 0, 'C': 0, 'DE': 16}, 'regiao': {'total': 16, 'sudeste': 4, 'sul': 4, 'centrooeste': 1, 'norte': 1, 'nordeste': 6}}, 'De R$ 1.321 a R$ 2.640': {'opcao': 'De R$ 1.321 a R$ 2.640', 'sexo': {'total': 40, 'masculino': 15, 'feminino': 25}, 'faixa_etaria': {'total': 40, '16_29': 10, '30_49': 18, '50': 12}, 'classe_social': {'total': 40, 'AB': 0, 'C': 0, 'DE': 40}, 'regiao': {'total': 40, 'sudeste': 17, 'sul': 5, 'centrooeste': 5, 'norte': 2, 'nordeste': 11}}, 'De R$ 2.641 a R$ 3.960': {'opcao': 'De R$ 2.641 a R$ 3.960', 'sexo': {'total': 53, 'masculino': 24, 'feminino': 29}, 'faixa_etaria': {'total': 53, '16_29': 17, '30_49': 21, '50': 15}, 'classe_social': {'total': 53, 'AB': 0, 'C': 53, 'DE': 0}, 'regiao': {'total': 53, 'sudeste': 22, 'sul': 6, 'centrooeste': 3, 'norte': 5, 'nordeste': 17}}, 'De R$ 3.961 a R$ 6.600': {'opcao': 'De R$ 3.961 a R$ 6.600', 'sexo': {'total': 41, 'masculino': 20, 'feminino': 21}, 'faixa_etaria': {'total': 41, '16_29': 14, '30_49': 13, '50': 14}, 'classe_social': {'total': 41, 'AB': 0, 'C': 41, 'DE': 0}, 'regiao': {'total': 41, 'sudeste': 15, 'sul': 6, 'centrooeste': 4, 'norte': 4, 'nordeste': 12}}, 'De R$ 6.601 a R$ 13.200': {'opcao': 'De R$ 6.601 a R$ 13.200', 'sexo': {'total': 27, 'masculino': 14, 'feminino': 13}, 'faixa_etaria': {'total': 27, '16_29': 3, '30_49': 12, '50': 12}, 'classe_social': {'total': 27, 'AB': 27, 'C': 0, 'DE': 0}, 'regiao': {'total': 27, 'sudeste': 15, 'sul': 4, 'centrooeste': 3, 'norte': 1, 'nordeste': 4}}, 'De R$ 13.201 a R$ 19.800': {'opcao': 'De R$ 13.201 a R$ 19.800', 'sexo': {'total': 17, 'masculino': 9, 'feminino': 8}, 'faixa_etaria': {'total': 17, '16_29': 2, '30_49': 5, '50': 10}, 'classe_social': {'total': 17, 'AB': 17, 'C': 0, 'DE': 0}, 'regiao': {'total': 17, 'sudeste': 11, 'sul': 3, 'centrooeste': 0, 'norte': 1, 'nordeste': 2}}, 'Mais de R$ 19.800': {'opcao': 'Mais de R$ 19.800', 'sexo': {'total': 6, 'masculino': 4, 'feminino': 2}, 'faixa_etaria': {'total': 6, '16_29': 3, '30_49': 2, '50': 1}, 'classe_social': {'total': 6, 'AB': 6, 'C': 0, 'DE': 0}, 'regiao': {'total': 6, 'sudeste': 2, 'sul': 2, 'centrooeste': 0, 'norte': 2, 'nordeste': 0}}}, 'Estado': {'Total ': {'opcao': 'Total ', 'sexo': {'total': 200, 'masculino': 96, 'feminino': 104}, 'faixa_etaria': {'total': 200, '16_29': 56, '30_49': 76, '50': 68}, 'classe_social': {'total': 200, 'AB': 50, 'C': 94, 'DE': 56}, 'regiao': {'total': 200, 'sudeste': 86, 'sul': 30, 'centrooeste': 16, 'norte': 16, 'nordeste': 52}}, 'Acre': {'opcao': 'Acre', 'sexo': {'total': 0, 'masculino': 0, 'feminino': 0}, 'faixa_etaria': {'total': 0, '16_29': 0, '30_49': 0, '50': 0}, 'classe_social': {'total': 0, 'AB': 0, 'C': 0, 'DE': 0}, 'regiao': {'total': 0, 'sudeste': 0, 'sul': 0, 'centrooeste': 0, 'norte': 0, 'nordeste': 0}}, 'Alagoas': {'opcao': 'Alagoas', 'sexo': {'total': 3, 'masculino': 2, 'feminino': 1}, 'faixa_etaria': {'total': 3, '16_29': 3, '30_49': 0, '50': 0}, 'classe_social': {'total': 3, 'AB': 0, 'C': 2, 'DE': 1}, 'regiao': {'total': 3, 'sudeste': 0, 'sul': 0, 'centrooeste': 0, 'norte': 0, 'nordeste': 3}}, 'Amapá': {'opcao': 'Amapá', 'sexo': {'total': 0, 'masculino': 0, 'feminino': 0}, 'faixa_etaria': {'total': 0, '16_29': 0, '30_49': 0, '50': 0}, 'classe_social': {'total': 0, 'AB': 0, 'C': 0, 'DE': 0}, 'regiao': {'total': 0, 'sudeste': 0, 'sul': 0, 'centrooeste': 0, 'norte': 0, 'nordeste': 0}}, 'Amazonas': {'opcao': 'Amazonas', 'sexo': {'total': 2, 'masculino': 2, 'feminino': 0}, 'faixa_etaria': {'total': 2, '16_29': 1, '30_49': 1, '50': 0}, 'classe_social': {'total': 2, 'AB': 1, 'C': 1, 'DE': 0}, 'regiao': {'total': 2, 'sudeste': 0, 'sul': 0, 'centrooeste': 0, 'norte': 2, 'nordeste': 0}}, 'Bahia': {'opcao': 'Bahia', 'sexo': {'total': 13, 'masculino': 7, 'feminino': 6}, 'faixa_etaria': {'total': 13, '16_29': 5, '30_49': 4, '50': 4}, 'classe_social': {'total': 13, 'AB': 1, 'C': 7, 'DE': 5}, 'regiao': {'total': 13, 'sudeste': 0, 'sul': 0, 'centrooeste': 0, 'norte': 0, 'nordeste': 13}}, 'Ceará': {'opcao': 'Ceará', 'sexo': {'total': 7, 'masculino': 2, 'feminino': 5}, 'faixa_etaria': {'total': 7, '16_29': 1, '30_49': 5, '50': 1}, 'classe_social': {'total': 7, 'AB': 1, 'C': 5, 'DE': 1}, 'regiao': {'total': 7, 'sudeste': 0, 'sul': 0, 'centrooeste': 0, 'norte': 0, 'nordeste': 7}}, 'Distrito Federal': {'opcao': 'Distrito Federal', 'sexo': {'total': 4, 'masculino': 2, 'feminino': 2}, 'faixa_etaria': {'total': 4, '16_29': 0, '30_49': 2, '50': 2}, 'classe_social': {'total': 4, 'AB': 1, 'C': 1, 'DE': 2}, 'regiao': {'total': 4, 'sudeste': 0, 'sul': 0, 'centrooeste': 4, 'norte': 0, 'nordeste': 0}}, 'Espírito Santo': {'opcao': 'Espírito Santo', 'sexo': {'total': 5, 'masculino': 3, 'feminino': 2}, 'faixa_etaria': {'total': 5, '16_29': 0, '30_49': 3, '50': 2}, 'classe_social': {'total': 5, 'AB': 2, 'C': 3, 'DE': 0}, 'regiao': {'total': 5, 'sudeste': 5, 'sul': 0, 'centrooeste': 0, 'norte': 0, 'nordeste': 0}}, 'Goiás': {'opcao': 'Goiás', 'sexo': {'total': 5, 'masculino': 4, 'feminino': 1}, 'faixa_etaria': {'total': 5, '16_29': 1, '30_49': 1, '50': 3}, 'classe_social': {'total': 5, 'AB': 1, 'C': 2, 'DE': 2}, 'regiao': {'total': 5, 'sudeste': 0, 'sul': 0, 'centrooeste': 5, 'norte': 0, 'nordeste': 0}}, 'Maranhão': {'opcao': 'Maranhão', 'sexo': {'total': 6, 'masculino': 6, 'feminino': 0}, 'faixa_etaria': {'total': 6, '16_29': 2, '30_49': 4, '50': 0}, 'classe_social': {'total': 6, 'AB': 0, 'C': 3, 'DE': 3}, 'regiao': {'total': 6, 'sudeste': 0, 'sul': 0, 'centrooeste': 0, 'norte': 0, 'nordeste': 6}}, 'Mato Grosso': {'opcao': 'Mato Grosso', 'sexo': {'total': 3, 'masculino': 1, 'feminino': 2}, 'faixa_etaria': {'total': 3, '16_29': 1, '30_49': 2, '50': 0}, 'classe_social': {'total': 3, 'AB': 0, 'C': 2, 'DE': 1}, 'regiao': {'total': 3, 'sudeste': 0, 'sul': 0, 'centrooeste': 3, 'norte': 0, 'nordeste': 0}}, 'Mato Grosso do Sul': {'opcao': 'Mato Grosso do Sul', 'sexo': {'total': 4, 'masculino': 0, 'feminino': 4}, 'faixa_etaria': {'total': 4, '16_29': 2, '30_49': 1, '50': 1}, 'classe_social': {'total': 4, 'AB': 1, 'C': 2, 'DE': 1}, 'regiao': {'total': 4, 'sudeste': 0, 'sul': 0, 'centrooeste': 4, 'norte': 0, 'nordeste': 0}}, 'Minas Gerais': {'opcao': 'Minas Gerais', 'sexo': {'total': 16, 'masculino': 5, 'feminino': 11}, 'faixa_etaria': {'total': 16, '16_29': 2, '30_49': 6, '50': 8}, 'classe_social': {'total': 16, 'AB': 4, 'C': 5, 'DE': 7}, 'regiao': {'total': 16, 'sudeste': 16, 'sul': 0, 'centrooeste': 0, 'norte': 0, 'nordeste': 0}}, 'Pará': {'opcao': 'Pará', 'sexo': {'total': 6, 'masculino': 1, 'feminino': 5}, 'faixa_etaria': {'total': 6, '16_29': 1, '30_49': 4, '50': 1}, 'classe_social': {'total': 6, 'AB': 1, 'C': 3, 'DE': 2}, 'regiao': {'total': 6, 'sudeste': 0, 'sul': 0, 'centrooeste': 0, 'norte': 6, 'nordeste': 0}}, 'Paraíba': {'opcao': 'Paraíba', 'sexo': {'total': 6, 'masculino': 3, 'feminino': 3}, 'faixa_etaria': {'total': 6, '16_29': 2, '30_49': 3, '50': 1}, 'classe_social': {'total': 6, 'AB': 1, 'C': 3, 'DE': 2}, 'regiao': {'total': 6, 'sudeste': 0, 'sul': 0, 'centrooeste': 0, 'norte': 0, 'nordeste': 6}}, 'Paraná': {'opcao': 'Paraná', 'sexo': {'total': 9, 'masculino': 5, 'feminino': 4}, 'faixa_etaria': {'total': 9, '16_29': 2, '30_49': 4, '50': 3}, 'classe_social': {'total': 9, 'AB': 3, 'C': 3, 'DE': 3}, 'regiao': {'total': 9, 'sudeste': 0, 'sul': 9, 'centrooeste': 0, 'norte': 0, 'nordeste': 0}}, 'Pernambuco': {'opcao': 'Pernambuco', 'sexo': {'total': 9, 'masculino': 4, 'feminino': 5}, 'faixa_etaria': {'total': 9, '16_29': 3, '30_49': 2, '50': 4}, 'classe_social': {'total': 9, 'AB': 1, 'C': 5, 'DE': 3}, 'regiao': {'total': 9, 'sudeste': 0, 'sul': 0, 'centrooeste': 0, 'norte': 0, 'nordeste': 9}}, 'Piauí': {'opcao': 'Piauí', 'sexo': {'total': 0, 'masculino': 0, 'feminino': 0}, 'faixa_etaria': {'total': 0, '16_29': 0, '30_49': 0, '50': 0}, 'classe_social': {'total': 0, 'AB': 0, 'C': 0, 'DE': 0}, 'regiao': {'total': 0, 'sudeste': 0, 'sul': 0, 'centrooeste': 0, 'norte': 0, 'nordeste': 0}}, 'Rio de Janeiro': {'opcao': 'Rio de Janeiro', 'sexo': {'total': 25, 'masculino': 13, 'feminino': 12}, 'faixa_etaria': {'total': 25, '16_29': 6, '30_49': 8, '50': 11}, 'classe_social': {'total': 25, 'AB': 9, 'C': 9, 'DE': 7}, 'regiao': {'total': 25, 'sudeste': 25, 'sul': 0, 'centrooeste': 0, 'norte': 0, 'nordeste': 0}}, 'Rio Grande do Norte': {'opcao': 'Rio Grande do Norte', 'sexo': {'total': 7, 'masculino': 0, 'feminino': 7}, 'faixa_etaria': {'total': 7, '16_29': 2, '30_49': 3, '50': 2}, 'classe_social': {'total': 7, 'AB': 1, 'C': 4, 'DE': 2}, 'regiao': {'total': 7, 'sudeste': 0, 'sul': 0, 'centrooeste': 0, 'norte': 0, 'nordeste': 7}}, 'Rio Grande do Sul': {'opcao': 'Rio Grande do Sul', 'sexo': {'total': 12, 'masculino': 7, 'feminino': 5}, 'faixa_etaria': {'total': 12, '16_29': 2, '30_49': 4, '50': 6}, 'classe_social': {'total': 12, 'AB': 6, 'C': 4, 'DE': 2}, 'regiao': {'total': 12, 'sudeste': 0, 'sul': 12, 'centrooeste': 0, 'norte': 0, 'nordeste': 0}}, 'Rondônia': {'opcao': 'Rondônia', 'sexo': {'total': 3, 'masculino': 1, 'feminino': 2}, 'faixa_etaria': {'total': 3, '16_29': 0, '30_49': 2, '50': 1}, 'classe_social': {'total': 3, 'AB': 1, 'C': 2, 'DE': 0}, 'regiao': {'total': 3, 'sudeste': 0, 'sul': 0, 'centrooeste': 0, 'norte': 3, 'nordeste': 0}}, 'Roraima': {'opcao': 'Roraima', 'sexo': {'total': 3, 'masculino': 3, 'feminino': 0}, 'faixa_etaria': {'total': 3, '16_29': 1, '30_49': 0, '50': 2}, 'classe_social': {'total': 3, 'AB': 1, 'C': 2, 'DE': 0}, 'regiao': {'total': 3, 'sudeste': 0, 'sul': 0, 'centrooeste': 0, 'norte': 3, 'nordeste': 0}}, 'Santa Catarina': {'opcao': 'Santa Catarina', 'sexo': {'total': 9, 'masculino': 4, 'feminino': 5}, 'faixa_etaria': {'total': 9, '16_29': 4, '30_49': 4, '50': 1}, 'classe_social': {'total': 9, 'AB': 0, 'C': 5, 'DE': 4}, 'regiao': {'total': 9, 'sudeste': 0, 'sul': 9, 'centrooeste': 0, 'norte': 0, 'nordeste': 0}}, 'São Paulo': {'opcao': 'São Paulo', 'sexo': {'total': 40, 'masculino': 18, 'feminino': 22}, 'faixa_etaria': {'total': 40, '16_29': 14, '30_49': 11, '50': 15}, 'classe_social': {'total': 40, 'AB': 13, 'C': 20, 'DE': 7}, 'regiao': {'total': 40, 'sudeste': 40, 'sul': 0, 'centrooeste': 0, 'norte': 0, 'nordeste': 0}}, 'Sergipe': {'opcao': 'Sergipe', 'sexo': {'total': 1, 'masculino': 1, 'feminino': 0}, 'faixa_etaria': {'total': 1, '16_29': 0, '30_49': 1, '50': 0}, 'classe_social': {'total': 1, 'AB': 1, 'C': 0, 'DE': 0}, 'regiao': {'total': 1, 'sudeste': 0, 'sul': 0, 'centrooeste': 0, 'norte': 0, 'nordeste': 1}}, 'Tocantins': {'opcao': 'Tocantins', 'sexo': {'total': 2, 'masculino': 2, 'feminino': 0}, 'faixa_etaria': {'total': 2, '16_29': 1, '30_49': 1, '50': 0}, 'classe_social': {'total': 2, 'AB': 0, 'C': 1, 'DE': 1}, 'regiao': {'total': 2, 'sudeste': 0, 'sul': 0, 'centrooeste': 0, 'norte': 2, 'nordeste': 0}}}, 'Q1: Você conhece a marca acima, mesmo que seja somente de vê-la ou de ouvir falar?': {'Total ': {'opcao': 'Total ', 'sexo': {'total': 200, 'masculino': 96, 'feminino': 104}, 'faixa_etaria': {'total': 200, '16_29': 56, '30_49': 76, '50': 68}, 'classe_social': {'total': 200, 'AB': 50, 'C': 94, 'DE': 56}, 'regiao': {'total': 200, 'sudeste': 86, 'sul': 30, 'centrooeste': 16, 'norte': 16, 'nordeste': 52}}, 'Sim': {'opcao': 'Sim', 'sexo': {'total': 88, 'masculino': 35, 'feminino': 53}, 'faixa_etaria': {'total': 88, '16_29': 20, '30_49': 34, '50': 34}, 'classe_social': {'total': 88, 'AB': 25, 'C': 44, 'DE': 19}, 'regiao': {'total': 88, 'sudeste': 35, 'sul': 23, 'centrooeste': 8, 'norte': 4, 'nordeste': 18}}, 'Não': {'opcao': 'Não', 'sexo': {'total': 112, 'masculino': 61, 'feminino': 51}, 'faixa_etaria': {'total': 112, '16_29': 36, '30_49': 42, '50': 34}, 'classe_social': {'total': 112, 'AB': 25, 'C': 50, 'DE': 37}, 'regiao': {'total': 112, 'sudeste': 51, 'sul': 7, 'centrooeste': 8, 'norte': 12, 'nordeste': 34}}}, 'Q2: Você conhece a marca acima, mesmo que seja somente de vê-la ou de ouvir falar?': {'Total ': {'opcao': 'Total ', 'sexo': {'total': 200, 'masculino': 96, 'feminino': 104}, 'faixa_etaria': {'total': 200, '16_29': 56, '30_49': 76, '50': 68}, 'classe_social': {'total': 200, 'AB': 50, 'C': 94, 'DE': 56}, 'regiao': {'total': 200, 'sudeste': 86, 'sul': 30, 'centrooeste': 16, 'norte': 16, 'nordeste': 52}}, 'Sim': {'opcao': 'Sim', 'sexo': {'total': 42, 'masculino': 17, 'feminino': 25}, 'faixa_etaria': {'total': 42, '16_29': 15, '30_49': 12, '50': 15}, 'classe_social': {'total': 42, 'AB': 9, 'C': 21, 'DE': 12}, 'regiao': {'total': 42, 'sudeste': 19, 'sul': 5, 'centrooeste': 4, 'norte': 4, 'nordeste': 10}}, 'Não': {'opcao': 'Não', 'sexo': {'total': 158, 'masculino': 79, 'feminino': 79}, 'faixa_etaria': {'total': 158, '16_29': 41, '30_49': 64, '50': 53}, 'classe_social': {'total': 158, 'AB': 41, 'C': 73, 'DE': 44}, 'regiao': {'total': 158, 'sudeste': 67, 'sul': 25, 'centrooeste': 12, 'norte': 12, 'nordeste': 42}}}, 'Q3: Você considera essas marcas semelhantes?': {'Total ': {'opcao': 'Total ', 'sexo': {'total': 200, 'masculino': 96, 'feminino': 104}, 'faixa_etaria': {'total': 200, '16_29': 56, '30_49': 76, '50': 68}, 'classe_social': {'total': 200, 'AB': 50, 'C': 94, 'DE': 56}, 'regiao': {'total': 200, 'sudeste': 86, 'sul': 30, 'centrooeste': 16, 'norte': 16, 'nordeste': 52}}, 'Sim': {'opcao': 'Sim', 'sexo': {'total': 133, 'masculino': 61, 'feminino': 72}, 'faixa_etaria': {'total': 133, '16_29': 42, '30_49': 47, '50': 44}, 'classe_social': {'total': 133, 'AB': 35, 'C': 61, 'DE': 37}, 'regiao': {'total': 133, 'sudeste': 61, 'sul': 18, 'centrooeste': 9, 'norte': 11, 'nordeste': 34}}, 'Não': {'opcao': 'Não', 'sexo': {'total': 67, 'masculino': 35, 'feminino': 32}, 'faixa_etaria': {'total': 67, '16_29': 14, '30_49': 29, '50': 24}, 'classe_social': {'total': 67, 'AB': 15, 'C': 33, 'DE': 19}, 'regiao': {'total': 67, 'sudeste': 25, 'sul': 12, 'centrooeste': 7, 'norte': 5, 'nordeste': 18}}}, 'Q4: Observe as imagens abaixo e responda: Os produtos da imagem B em relação aos produtos da imagem A são:': {'Total ': {'opcao': 'Total ', 'sexo': {'total': 200, 'masculino': 96, 'feminino': 104}, 'faixa_etaria': {'total': 200, '16_29': 56, '30_49': 76, '50': 68}, 'classe_social': {'total': 200, 'AB': 50, 'C': 94, 'DE': 56}, 'regiao': {'total': 200, 'sudeste': 86, 'sul': 30, 'centrooeste': 16, 'norte': 16, 'nordeste': 52}}, '1- Muito Dessemelhantes': {'opcao': '1- Muito Dessemelhantes', 'sexo': {'total': 27, 'masculino': 13, 'feminino': 14}, 'faixa_etaria': {'total': 27, '16_29': 8, '30_49': 11, '50': 8}, 'classe_social': {'total': 27, 'AB': 4, 'C': 14, 'DE': 9}, 'regiao': {'total': 27, 'sudeste': 8, 'sul': 3, 'centrooeste': 4, 'norte': 2, 'nordeste': 10}}, '2- Dessemelhantes': {'opcao': '2- Dessemelhantes', 'sexo': {'total': 46, 'masculino': 24, 'feminino': 22}, 'faixa_etaria': {'total': 46, '16_29': 7, '30_49': 18, '50': 21}, 'classe_social': {'total': 46, 'AB': 13, 'C': 23, 'DE': 10}, 'regiao': {'total': 46, 'sudeste': 24, 'sul': 6, 'centrooeste': 5, 'norte': 1, 'nordeste': 10}}, '3 – Não sei responder': {'opcao': '3 – Não sei responder', 'sexo': {'total': 8, 'masculino': 7, 'feminino': 1}, 'faixa_etaria': {'total': 8, '16_29': 0, '30_49': 7, '50': 1}, 'classe_social': {'total': 8, 'AB': 2, 'C': 2, 'DE': 4}, 'regiao': {'total': 8, 'sudeste': 3, 'sul': 2, 'centrooeste': 0, 'norte': 0, 'nordeste': 3}}, '4 – Semelhantes': {'opcao': '4 – Semelhantes', 'sexo': {'total': 95, 'masculino': 40, 'feminino': 55}, 'faixa_etaria': {'total': 95, '16_29': 34, '30_49': 31, '50': 30}, 'classe_social': {'total': 95, 'AB': 23, 'C': 46, 'DE': 26}, 'regiao': {'total': 95, 'sudeste': 43, 'sul': 14, 'centrooeste': 7, 'norte': 7, 'nordeste': 24}}, '5 – Muito Semelhantes': {'opcao': '5 – Muito Semelhantes', 'sexo': {'total': 24, 'masculino': 12, 'feminino': 12}, 'faixa_etaria': {'total': 24, '16_29': 7, '30_49': 9, '50': 8}, 'classe_social': {'total': 24, 'AB': 8, 'C': 9, 'DE': 7}, 'regiao': {'total': 24, 'sudeste': 8, 'sul': 5, 'centrooeste': 0, 'norte': 6, 'nordeste': 5}}}, 'Q5: Observe as imagens abaixo e responda: Ao ver esses produtos, haveria o risco de você confundi-los, levando os produtos de B no lugar dos produtos de A?': {'Total ': {'opcao': 'Total ', 'sexo': {'total': 200, 'masculino': 96, 'feminino': 104}, 'faixa_etaria': {'total': 200, '16_29': 56, '30_49': 76, '50': 68}, 'classe_social': {'total': 200, 'AB': 50, 'C': 94, 'DE': 56}, 'regiao': {'total': 200, 'sudeste': 86, 'sul': 30, 'centrooeste': 16, 'norte': 16, 'nordeste': 52}}, 'Sim': {'opcao': 'Sim', 'sexo': {'total': 91, 'masculino': 43, 'feminino': 48}, 'faixa_etaria': {'total': 91, '16_29': 28, '30_49': 37, '50': 26}, 'classe_social': {'total': 91, 'AB': 24, 'C': 39, 'DE': 28}, 'regiao': {'total': 91, 'sudeste': 42, 'sul': 12, 'centrooeste': 6, 'norte': 9, 'nordeste': 22}}, 'Não': {'opcao': 'Não', 'sexo': {'total': 109, 'masculino': 53, 'feminino': 56}, 'faixa_etaria': {'total': 109, '16_29': 28, '30_49': 39, '50': 42}, 'classe_social': {'total': 109, 'AB': 26, 'C': 55, 'DE': 28}, 'regiao': {'total': 109, 'sudeste': 44, 'sul': 18, 'centrooeste': 10, 'norte': 7, 'nordeste': 30}}}, 'Q6: Observe as imagens abaixo e responda: Você acredita que a marca A e a marca B pertencem à mesma empresa?': {'Total ': {'opcao': 'Total ', 'sexo': {'total': 200, 'masculino': 96, 'feminino': 104}, 'faixa_etaria': {'total': 200, '16_29': 56, '30_49': 76, '50': 68}, 'classe_social': {'total': 200, 'AB': 50, 'C': 94, 'DE': 56}, 'regiao': {'total': 200, 'sudeste': 86, 'sul': 30, 'centrooeste': 16, 'norte': 16, 'nordeste': 52}}, 'Sim': {'opcao': 'Sim', 'sexo': {'total': 136, 'masculino': 67, 'feminino': 69}, 'faixa_etaria': {'total': 136, '16_29': 40, '30_49': 51, '50': 45}, 'classe_social': {'total': 136, 'AB': 33, 'C': 68, 'DE': 35}, 'regiao': {'total': 136, 'sudeste': 65, 'sul': 15, 'centrooeste': 11, 'norte': 10, 'nordeste': 35}}, 'Não': {'opcao': 'Não', 'sexo': {'total': 64, 'masculino': 29, 'feminino': 35}, 'faixa_etaria': {'total': 64, '16_29': 16, '30_49': 25, '50': 23}, 'classe_social': {'total': 64, 'AB': 17, 'C': 26, 'DE': 21}, 'regiao': {'total': 64, 'sudeste': 21, 'sul': 15, 'centrooeste': 5, 'norte': 6, 'nordeste': 17}}}, 'Q7: Em qual ano nós estamos?': {'Total ': {'opcao': 'Total ', 'sexo': {'total': 200, 'masculino': 96, 'feminino': 104}, 'faixa_etaria': {'total': 200, '16_29': 56, '30_49': 76, '50': 68}, 'classe_social': {'total': 200, 'AB': 50, 'C': 94, 'DE': 56}, 'regiao': {'total': 200, 'sudeste': 86, 'sul': 30, 'centrooeste': 16, 'norte': 16, 'nordeste': 52}}, 2021: {'opcao': 2021, 'sexo': {'total': 0, 'masculino': 0, 'feminino': 0}, 'faixa_etaria': {'total': 0, '16_29': 0, '30_49': 0, '50': 0}, 'classe_social': {'total': 0, 'AB': 0, 'C': 0, 'DE': 0}, 'regiao': {'total': 0, 'sudeste': 0, 'sul': 0, 'centrooeste': 0, 'norte': 0, 'nordeste': 0}}, '2022': {'opcao': '2022', 'sexo': {'total': 0, 'masculino': 0, 'feminino': 0}, 'faixa_etaria': {'total': 0, '16_29': 0, '30_49': 0, '50': 0}, 'classe_social': {'total': 0, 'AB': 0, 'C': 0, 'DE': 0}, 'regiao': {'total': 0, 'sudeste': 0, 'sul': 0, 'centrooeste': 0, 'norte': 0, 'nordeste': 0}}, '2023': {'opcao': '2023', 'sexo': {'total': 200, 'masculino': 96, 'feminino': 104}, 'faixa_etaria': {'total': 200, '16_29': 56, '30_49': 76, '50': 68}, 'classe_social': {'total': 200, 'AB': 50, 'C': 94, 'DE': 56}, 'regiao': {'total': 200, 'sudeste': 86, 'sul': 30, 'centrooeste': 16, 'norte': 16, 'nordeste': 52}}, 2024: {'opcao': 2024, 'sexo': {'total': 0, 'masculino': 0, 'feminino': 0}, 'faixa_etaria': {'total': 0, '16_29': 0, '30_49': 0, '50': 0}, 'classe_social': {'total': 0, 'AB': 0, 'C': 0, 'DE': 0}, 'regiao': {'total': 0, 'sudeste': 0, 'sul': 0, 'centrooeste': 0, 'norte': 0, 'nordeste': 0}}, 2025: {'opcao': 2025, 'sexo': {'total': 0, 'masculino': 0, 'feminino': 0}, 'faixa_etaria': {'total': 0, '16_29': 0, '30_49': 0, '50': 0}, 'classe_social': {'total': 0, 'AB': 0, 'C': 0, 'DE': 0}, 'regiao': {'total': 0, 'sudeste': 0, 'sul': 0, 'centrooeste': 0, 'norte': 0, 'nordeste': 0}}}, 'Q8: Você costuma comprar doces como geleias, chocolates, barras de cereais em:\\n\\nPode selecionar mais de uma opção.': {'Total ': {'opcao': 'Total ', 'sexo': {'total': 200, 'masculino': 96, 'feminino': 104}, 'faixa_etaria': {'total': 200, '16_29': 56, '30_49': 76, '50': 68}, 'classe_social': {'total': 200, 'AB': 50, 'C': 94, 'DE': 56}, 'regiao': {'total': 200, 'sudeste': 86, 'sul': 30, 'centrooeste': 16, 'norte': 16, 'nordeste': 52}}, 'Mercados': {'opcao': 'Mercados', 'sexo': {'total': 169, 'masculino': 80, 'feminino': 89}, 'faixa_etaria': {'total': 169, '16_29': 45, '30_49': 72, '50': 52}, 'classe_social': {'total': 169, 'AB': 41, 'C': 81, 'DE': 47}, 'regiao': {'total': 169, 'sudeste': 76, 'sul': 28, 'centrooeste': 13, 'norte': 13, 'nordeste': 39}}, 'Internet': {'opcao': 'Internet', 'sexo': {'total': 32, 'masculino': 12, 'feminino': 20}, 'faixa_etaria': {'total': 32, '16_29': 11, '30_49': 13, '50': 8}, 'classe_social': {'total': 32, 'AB': 16, 'C': 12, 'DE': 4}, 'regiao': {'total': 32, 'sudeste': 19, 'sul': 2, 'centrooeste': 3, 'norte': 3, 'nordeste': 5}}, 'Lojas especializadas': {'opcao': 'Lojas especializadas', 'sexo': {'total': 47, 'masculino': 23, 'feminino': 24}, 'faixa_etaria': {'total': 47, '16_29': 17, '30_49': 12, '50': 18}, 'classe_social': {'total': 47, 'AB': 9, 'C': 29, 'DE': 9}, 'regiao': {'total': 47, 'sudeste': 21, 'sul': 5, 'centrooeste': 0, 'norte': 7, 'nordeste': 14}}, 'Outros': {'opcao': 'Outros', 'sexo': {'total': 8, 'masculino': 4, 'feminino': 4}, 'faixa_etaria': {'total': 8, '16_29': 1, '30_49': 3, '50': 4}, 'classe_social': {'total': 8, 'AB': 2, 'C': 5, 'DE': 1}, 'regiao': {'total': 8, 'sudeste': 2, 'sul': 1, 'centrooeste': 2, 'norte': 1, 'nordeste': 2}}, 'Não compro esse tipo de produto': {'opcao': 'Não compro esse tipo de produto', 'sexo': {'total': 8, 'masculino': 4, 'feminino': 4}, 'faixa_etaria': {'total': 8, '16_29': 2, '30_49': 3, '50': 3}, 'classe_social': {'total': 8, 'AB': 3, 'C': 1, 'DE': 4}, 'regiao': {'total': 8, 'sudeste': 1, 'sul': 1, 'centrooeste': 2, 'norte': 1, 'nordeste': 3}}}, 'Q9: Esse tipo de produto é exposto dessa forma?': {'Total ': {'opcao': 'Total ', 'sexo': {'total': 192, 'masculino': 92, 'feminino': 100}, 'faixa_etaria': {'total': 192, '16_29': 54, '30_49': 73, '50': 65}, 'classe_social': {'total': 192, 'AB': 47, 'C': 93, 'DE': 52}, 'regiao': {'total': 192, 'sudeste': 85, 'sul': 29, 'centrooeste': 14, 'norte': 15, 'nordeste': 49}}, 'Sim': {'opcao': 'Sim', 'sexo': {'total': 175, 'masculino': 81, 'feminino': 94}, 'faixa_etaria': {'total': 175, '16_29': 52, '30_49': 68, '50': 55}, 'classe_social': {'total': 175, 'AB': 38, 'C': 89, 'DE': 48}, 'regiao': {'total': 175, 'sudeste': 77, 'sul': 26, 'centrooeste': 12, 'norte': 13, 'nordeste': 47}}, 'Não': {'opcao': 'Não', 'sexo': {'total': 17, 'masculino': 11, 'feminino': 6}, 'faixa_etaria': {'total': 17, '16_29': 2, '30_49': 5, '50': 10}, 'classe_social': {'total': 17, 'AB': 9, 'C': 4, 'DE': 4}, 'regiao': {'total': 17, 'sudeste': 8, 'sul': 3, 'centrooeste': 2, 'norte': 2, 'nordeste': 2}}}, 'Q10: Quando você compra esses produtos, o que é mais importante?': {'Total ': {'opcao': 'Total ', 'sexo': {'total': 192, 'masculino': 92, 'feminino': 100}, 'faixa_etaria': {'total': 192, '16_29': 54, '30_49': 73, '50': 65}, 'classe_social': {'total': 192, 'AB': 47, 'C': 93, 'DE': 52}, 'regiao': {'total': 192, 'sudeste': 85, 'sul': 29, 'centrooeste': 14, 'norte': 15, 'nordeste': 49}}, 'A marca': {'opcao': 'A marca', 'sexo': {'total': 101, 'masculino': 49, 'feminino': 52}, 'faixa_etaria': {'total': 101, '16_29': 25, '30_49': 34, '50': 42}, 'classe_social': {'total': 101, 'AB': 27, 'C': 54, 'DE': 20}, 'regiao': {'total': 101, 'sudeste': 49, 'sul': 13, 'centrooeste': 7, 'norte': 7, 'nordeste': 25}}, 'O preço': {'opcao': 'O preço', 'sexo': {'total': 91, 'masculino': 43, 'feminino': 48}, 'faixa_etaria': {'total': 91, '16_29': 29, '30_49': 39, '50': 23}, 'classe_social': {'total': 91, 'AB': 20, 'C': 39, 'DE': 32}, 'regiao': {'total': 91, 'sudeste': 36, 'sul': 16, 'centrooeste': 7, 'norte': 8, 'nordeste': 24}}}, 'Q10.1: Você leva em consideração as marcas que já comprou?': {'Total ': {'opcao': 'Total ', 'sexo': {'total': 101, 'masculino': 49, 'feminino': 52}, 'faixa_etaria': {'total': 101, '16_29': 25, '30_49': 34, '50': 42}, 'classe_social': {'total': 101, 'AB': 27, 'C': 54, 'DE': 20}, 'regiao': {'total': 101, 'sudeste': 49, 'sul': 13, 'centrooeste': 7, 'norte': 7, 'nordeste': 25}}, 'Sim': {'opcao': 'Sim', 'sexo': {'total': 97, 'masculino': 47, 'feminino': 50}, 'faixa_etaria': {'total': 97, '16_29': 25, '30_49': 32, '50': 40}, 'classe_social': {'total': 97, 'AB': 26, 'C': 54, 'DE': 17}, 'regiao': {'total': 97, 'sudeste': 46, 'sul': 13, 'centrooeste': 6, 'norte': 7, 'nordeste': 25}}, 'Não': {'opcao': 'Não', 'sexo': {'total': 4, 'masculino': 2, 'feminino': 2}, 'faixa_etaria': {'total': 4, '16_29': 0, '30_49': 2, '50': 2}, 'classe_social': {'total': 4, 'AB': 1, 'C': 0, 'DE': 3}, 'regiao': {'total': 4, 'sudeste': 3, 'sul': 0, 'centrooeste': 1, 'norte': 0, 'nordeste': 0}}}, 'Q11: Quando você está comprando esses produtos, quanto tempo em média você leva para decidir qual produto levar?': {'Total ': {'opcao': 'Total ', 'sexo': {'total': 192, 'masculino': 92, 'feminino': 100}, 'faixa_etaria': {'total': 192, '16_29': 54, '30_49': 73, '50': 65}, 'classe_social': {'total': 192, 'AB': 47, 'C': 93, 'DE': 52}, 'regiao': {'total': 192, 'sudeste': 85, 'sul': 29, 'centrooeste': 14, 'norte': 15, 'nordeste': 49}}, 'Menos de 10 segundos': {'opcao': 'Menos de 10 segundos', 'sexo': {'total': 22, 'masculino': 12, 'feminino': 10}, 'faixa_etaria': {'total': 22, '16_29': 7, '30_49': 5, '50': 10}, 'classe_social': {'total': 22, 'AB': 8, 'C': 7, 'DE': 7}, 'regiao': {'total': 22, 'sudeste': 10, 'sul': 7, 'centrooeste': 2, 'norte': 0, 'nordeste': 3}}, '10 segundos a 1 minuto': {'opcao': '10 segundos a 1 minuto', 'sexo': {'total': 78, 'masculino': 40, 'feminino': 38}, 'faixa_etaria': {'total': 78, '16_29': 19, '30_49': 32, '50': 27}, 'classe_social': {'total': 78, 'AB': 23, 'C': 37, 'DE': 18}, 'regiao': {'total': 78, 'sudeste': 36, 'sul': 13, 'centrooeste': 7, 'norte': 5, 'nordeste': 17}}, '1 a 2 minutos': {'opcao': '1 a 2 minutos', 'sexo': {'total': 54, 'masculino': 24, 'feminino': 30}, 'faixa_etaria': {'total': 54, '16_29': 16, '30_49': 24, '50': 14}, 'classe_social': {'total': 54, 'AB': 13, 'C': 30, 'DE': 11}, 'regiao': {'total': 54, 'sudeste': 23, 'sul': 4, 'centrooeste': 2, 'norte': 6, 'nordeste': 19}}, '2 a 5 minutos': {'opcao': '2 a 5 minutos', 'sexo': {'total': 22, 'masculino': 6, 'feminino': 16}, 'faixa_etaria': {'total': 22, '16_29': 8, '30_49': 7, '50': 7}, 'classe_social': {'total': 22, 'AB': 2, 'C': 11, 'DE': 9}, 'regiao': {'total': 22, 'sudeste': 9, 'sul': 4, 'centrooeste': 3, 'norte': 0, 'nordeste': 6}}, 'Mais de 5 minutos': {'opcao': 'Mais de 5 minutos', 'sexo': {'total': 16, 'masculino': 10, 'feminino': 6}, 'faixa_etaria': {'total': 16, '16_29': 4, '30_49': 5, '50': 7}, 'classe_social': {'total': 16, 'AB': 1, 'C': 8, 'DE': 7}, 'regiao': {'total': 16, 'sudeste': 7, 'sul': 1, 'centrooeste': 0, 'norte': 4, 'nordeste': 4}}}}\n"
     ]
    }
   ],
   "source": [
    "dict_perguntas_completas = {}\n",
    "for i in range(numeros.__len__()):\n",
    "    try:\n",
    "        pergunta = ritter.loc[numeros[i]:numeros[i+1]-1]\n",
    "    except:\n",
    "        pergunta = ritter.loc[numeros[i]::]\n",
    "   \n",
    "    index,texto=perguntas.iloc[i]\n",
    "    #print(texto)\n",
    "   \n",
    "    dict_opcoes={}\n",
    "\n",
    "\n",
    "\n",
    "    for index,linha in pergunta.iterrows():#percorrendo em cada pergunta\n",
    "        if not pd.isna(linha['Unnamed: 0']):\n",
    "            dados_list = [{'pergunta':linha['Unnamed: 0']},]\n",
    "        \n",
    "        if not pd.isna(linha['Unnamed: 1']):#achou uma opcao\n",
    "\n",
    "            op=0\n",
    "            aux = []\n",
    "            opcao_list =  {'opcao':linha['Unnamed: 1']}\n",
    "            \n",
    "            for j in range(3,len(linha)):\n",
    "                \n",
    "                if not pd.isna(linha.iloc[j]) :\n",
    "                    aux.append(linha.iloc[j])\n",
    "                   # print(f\"valor {j-1}, certo\")\n",
    "                else:#se linha com opcao for vazia\n",
    "                    \n",
    "                    #print(aux)\n",
    "                    op+=1\n",
    "                    #print(op)\n",
    "                    resultado = preenche(op, *aux)  # Supondo que preenche retorna um dicionário\n",
    "                    chave, valor = next(iter(resultado.items()))\n",
    "                    opcao_list[chave]=valor\n",
    "                    aux=[]\n",
    "                    #print(f\"valor {j-1},errado\")\n",
    "            if op==3:\n",
    "                resultado = preenche(4, *aux)  # Supondo que preenche retorna um dicionário\n",
    "                chave, valor = next(iter(resultado.items()))\n",
    "                opcao_list[chave]=valor\n",
    "\n",
    "            #print('teste: ',opcao_list['opcao'])\n",
    "            dict_opcoes[opcao_list['opcao']] =opcao_list\n",
    "    dict_perguntas_completas[texto]=dict_opcoes      \n",
    "    \n",
    "\n",
    "print(dict_perguntas_completas)\n",
    "        \n",
    "   \n",
    "        \n",
    "    "
   ]
  },
  {
   "cell_type": "code",
   "execution_count": null,
   "metadata": {},
   "outputs": [],
   "source": [
    "\n",
    "\n"
   ]
  },
  {
   "cell_type": "markdown",
   "metadata": {},
   "source": [
    "## estruturando cada pergunta\n"
   ]
  },
  {
   "cell_type": "code",
   "execution_count": 77,
   "metadata": {},
   "outputs": [
    {
     "ename": "KeyError",
     "evalue": "'sexo'",
     "output_type": "error",
     "traceback": [
      "\u001b[1;31m---------------------------------------------------------------------------\u001b[0m",
      "\u001b[1;31mKeyError\u001b[0m                                  Traceback (most recent call last)",
      "\u001b[1;32mc:\\Users\\Gustavo\\OneDrive\\Documentos\\GitHub\\DataScienceGui\\projetogustavo\\RitterSport\\RitterSport.ipynb Cell 14\u001b[0m line \u001b[0;36m2\n\u001b[0;32m      <a href='vscode-notebook-cell:/c%3A/Users/Gustavo/OneDrive/Documentos/GitHub/DataScienceGui/projetogustavo/RitterSport/RitterSport.ipynb#X16sZmlsZQ%3D%3D?line=0'>1</a>\u001b[0m \u001b[39mfor\u001b[39;00m pergunta \u001b[39min\u001b[39;00m perguntas[\u001b[39m'\u001b[39m\u001b[39mpergunta\u001b[39m\u001b[39m'\u001b[39m]:\n\u001b[1;32m----> <a href='vscode-notebook-cell:/c%3A/Users/Gustavo/OneDrive/Documentos/GitHub/DataScienceGui/projetogustavo/RitterSport/RitterSport.ipynb#X16sZmlsZQ%3D%3D?line=1'>2</a>\u001b[0m     \u001b[39mprint\u001b[39m(dict_perguntas_completas[pergunta][\u001b[39m'\u001b[39;49m\u001b[39msexo\u001b[39;49m\u001b[39m'\u001b[39;49m][\u001b[39m'\u001b[39m\u001b[39mtotal\u001b[39m\u001b[39m'\u001b[39m])\n",
      "\u001b[1;31mKeyError\u001b[0m: 'sexo'"
     ]
    }
   ],
   "source": [
    "for pergunta in perguntas['pergunta']:\n",
    "    print(dict_perguntas_completas[pergunta]['sexo']['total'])"
   ]
  }
 ],
 "metadata": {
  "kernelspec": {
   "display_name": "venv",
   "language": "python",
   "name": "python3"
  },
  "language_info": {
   "codemirror_mode": {
    "name": "ipython",
    "version": 3
   },
   "file_extension": ".py",
   "mimetype": "text/x-python",
   "name": "python",
   "nbconvert_exporter": "python",
   "pygments_lexer": "ipython3",
   "version": "3.10.7"
  },
  "orig_nbformat": 4
 },
 "nbformat": 4,
 "nbformat_minor": 2
}
